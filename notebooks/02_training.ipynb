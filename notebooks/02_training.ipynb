{
 "cells": [
  {
   "cell_type": "code",
   "execution_count": 6,
   "id": "67e65176-3b1b-4430-ab6e-d4de4a42c1c1",
   "metadata": {},
   "outputs": [],
   "source": [
    "#---\n",
    "\n",
    "\n",
    "# 🧠 Image Classification – Model Training (ResNet18)\n",
    "\n",
    "#This notebook focuses on **training and fine-tuning** a convolutional neural network (CNN) using **transfer learning**.  \n",
    "#We will build on our earlier exploration and prepare a high-performing image classification model for API deployment.\n",
    "\n",
    "#---\n",
    "\n",
    "### 🎯 Objectives\n",
    "#- Load and preprocess CIFAR-10 dataset  \n",
    "#- Fine-tune a pretrained **ResNet18** model using transfer learning  \n",
    "#- Track training and validation performance  \n",
    "#- Save the trained model for inference in the FastAPI app  \n",
    "\n",
    "#---\n"
   ]
  },
  {
   "cell_type": "code",
   "execution_count": 2,
   "id": "be6ba24e-cb65-4755-943a-945f1078abf9",
   "metadata": {},
   "outputs": [],
   "source": [
    "# ✅ Imports and Configuration\n",
    "\n",
    "\n",
    "import torch\n",
    "import torch.nn as nn\n",
    "import torch.optim as optim\n",
    "from torchvision import datasets, transforms, models\n",
    "from torch.utils.data import DataLoader\n",
    "import matplotlib.pyplot as plt\n",
    "import numpy as np\n",
    "from tqdm import tqdm\n",
    "import os"
   ]
  },
  {
   "cell_type": "code",
   "execution_count": 3,
   "id": "cfbf1551-4101-499e-93dc-7424341eab8b",
   "metadata": {},
   "outputs": [
    {
     "name": "stdout",
     "output_type": "stream",
     "text": [
      "Using device: cpu\n"
     ]
    }
   ],
   "source": [
    "# Check for GPU\n",
    "\n",
    "device = torch.device(\"cuda\" if torch.cuda.is_available() else \"cpu\")\n",
    "print(f\"Using device: {device}\")"
   ]
  },
  {
   "cell_type": "code",
   "execution_count": null,
   "id": "424efde6-2893-46c6-9858-99861e977423",
   "metadata": {},
   "outputs": [],
   "source": [
    "## 🧩 1. Data Preparation\n",
    "\n",
    "# We’ll reuse the same normalization values from our exploration notebook for consistency.  \n",
    "# Two `DataLoader` objects will be created: one for training and one for validation/testing."
   ]
  },
  {
   "cell_type": "code",
   "execution_count": 4,
   "id": "071d95f8-9fab-4cd4-af45-0d838ece0b1a",
   "metadata": {},
   "outputs": [
    {
     "name": "stdout",
     "output_type": "stream",
     "text": [
      "Downloading https://www.cs.toronto.edu/~kriz/cifar-10-python.tar.gz to ../data/cifar-10-python.tar.gz\n"
     ]
    },
    {
     "name": "stderr",
     "output_type": "stream",
     "text": [
      "100%|█████████████████████████████████████████████████████████████████| 170498071/170498071 [00:03<00:00, 46417730.14it/s]\n"
     ]
    },
    {
     "name": "stdout",
     "output_type": "stream",
     "text": [
      "Extracting ../data/cifar-10-python.tar.gz to ../data\n",
      "Files already downloaded and verified\n",
      "Classes: ['airplane', 'automobile', 'bird', 'cat', 'deer', 'dog', 'frog', 'horse', 'ship', 'truck']\n"
     ]
    }
   ],
   "source": [
    "# Define transforms (normalization values consistent with CIFAR-10)\n",
    "transform_train = transforms.Compose([\n",
    "    transforms.RandomHorizontalFlip(),\n",
    "    transforms.RandomCrop(32, padding=4),\n",
    "    transforms.ToTensor(),\n",
    "    transforms.Normalize((0.4914, 0.4822, 0.4465), \n",
    "                         (0.2023, 0.1994, 0.2010))\n",
    "])\n",
    "\n",
    "transform_test = transforms.Compose([\n",
    "    transforms.ToTensor(),\n",
    "    transforms.Normalize((0.4914, 0.4822, 0.4465), \n",
    "                         (0.2023, 0.1994, 0.2010))\n",
    "])\n",
    "\n",
    "# Load CIFAR-10 dataset\n",
    "trainset = datasets.CIFAR10(root=\"../data\", train=True,\n",
    "                            download=True, transform=transform_train)\n",
    "testset = datasets.CIFAR10(root=\"../data\", train=True,\n",
    "                           download=True, transform=transform_test)\n",
    "\n",
    "trainloader = DataLoader(trainset, batch_size=64, shuffle=True)\n",
    "testloader = DataLoader(testset, batch_size=64, shuffle=True)\n",
    "\n",
    "classes = trainset.classes\n",
    "print(\"Classes:\", classes)"
   ]
  },
  {
   "cell_type": "code",
   "execution_count": null,
   "id": "61083115-c88e-4237-b688-4ea4f0d05b16",
   "metadata": {},
   "outputs": [],
   "source": [
    "## 📘 Theory Notes — Why CNNs Work & Why Transfer Learning Helps\n",
    "\n",
    "#---\n",
    "\n",
    "### 🧠 Why Convolutional Neural Networks (CNNs) Work\n",
    "\n",
    "#CNNs are specialized neural networks designed for **visual understanding**.  \n",
    "#They learn spatial hierarchies — from **edges and colors** in early layers to **complex shapes and objects** in deeper layers.\n",
    "\n",
    "#Key architectural ideas:\n",
    "#- **Local connectivity:** filters (kernels) focus on small image regions at a time.  \n",
    "#- **Shared weights:** the same filter slides across the image — reducing parameters.  \n",
    "#- **Pooling layers:** downsample and retain key spatial features, increasing invariance to translation or scale.  \n",
    "#- **Stacked convolutions:** build compositional features — edges → corners → textures → objects.\n",
    "\n",
    "#In short, CNNs extract **spatially aware feature representations** that generalize well for image recognition tasks.\n",
    "\n",
    "#---\n",
    "\n",
    "### 🔁 Why Use Transfer Learning\n",
    "\n",
    "#Training a CNN from scratch on limited data is inefficient and prone to overfitting.  \n",
    "#**Transfer learning** leverages a pretrained model (e.g., ResNet18 trained on ImageNet) and adapts it to your smaller dataset.\n",
    "\n",
    "#Benefits:\n",
    "#- **Faster convergence:** pretrained weights already encode useful visual features.  \n",
    "#- **Reduced data requirement:** the model starts from a strong prior instead of random weights.  \n",
    "#- **Improved performance:** especially when your dataset resembles ImageNet (natural images).  \n",
    "\n",
    "#Common approaches:\n",
    "#1. **Feature extraction:** freeze most layers, train only the classifier head (as we’re doing).  \n",
    "#2. **Fine-tuning:** unfreeze later layers gradually for deeper adaptation.\n",
    "\n",
    "#---\n",
    "\n",
    "#📈 *In this notebook, we apply transfer learning with ResNet18 to fine-tune its final layers for CIFAR-10 — demonstrating efficient reuse of pretrained knowledge.*\n"
   ]
  },
  {
   "cell_type": "code",
   "execution_count": null,
   "id": "1ef5c51c-5947-4979-b192-7434112f468d",
   "metadata": {},
   "outputs": [],
   "source": [
    "## 🧠 2. Model Setup — Transfer Learning with ResNet18\n",
    "\n",
    "# We'll use a **pretrained ResNet18** model from torchvision.  \n",
    "# The final fully connected layer will be replaced to match the 10 CIFAR-10 classes."
   ]
  },
  {
   "cell_type": "code",
   "execution_count": 5,
   "id": "4a7e0c4e-d441-4f25-a473-a774336eed46",
   "metadata": {},
   "outputs": [
    {
     "name": "stderr",
     "output_type": "stream",
     "text": [
      "Downloading: \"https://download.pytorch.org/models/resnet18-f37072fd.pth\" to /Users/kevinwoods/.cache/torch/hub/checkpoints/resnet18-f37072fd.pth\n",
      "100%|████████████████████████████████████████████████████████████████████████████████| 44.7M/44.7M [00:00<00:00, 51.0MB/s]"
     ]
    },
    {
     "name": "stdout",
     "output_type": "stream",
     "text": [
      "Linear(in_features=512, out_features=10, bias=True)\n"
     ]
    },
    {
     "name": "stderr",
     "output_type": "stream",
     "text": [
      "\n"
     ]
    }
   ],
   "source": [
    "# Load pretrained ResNet18\n",
    "model = models.resnet18(weights=models.ResNet18_Weights.IMAGENET1K_V1)\n",
    "\n",
    "# Freeze early layers (optional)\n",
    "for param in model.parameters():\n",
    "    param.requires_grad = False\n",
    "\n",
    "# Replace final fully connected layer\n",
    "num_ftrs = model.fc.in_features\n",
    "model.fc = nn.Linear(num_ftrs, len(classes))\n",
    "\n",
    "model = model.to(device)\n",
    "print(model.fc)"
   ]
  },
  {
   "cell_type": "code",
   "execution_count": 6,
   "id": "97164859-70a8-4cc1-8aba-1233919a1d7e",
   "metadata": {},
   "outputs": [],
   "source": [
    "## ⚙️ 3. Define Loss Function and Optimizer\n",
    "# We'll use cross-entropy loss (standard for classification) and the Adam optimizer for efficient gradient updates.\n",
    "\n",
    "criterion = nn.CrossEntropyLoss()\n",
    "optimizer = optim.Adam(model.fc.parameters(), lr=0.001)"
   ]
  },
  {
   "cell_type": "code",
   "execution_count": 8,
   "id": "654d157c-e1eb-4c01-b44e-73f4028f1cc6",
   "metadata": {},
   "outputs": [
    {
     "name": "stderr",
     "output_type": "stream",
     "text": [
      "Epoch 1/10: 100%|███████████████████████████████████████████████████████████████████████| 782/782 [00:48<00:00, 16.14it/s]\n"
     ]
    },
    {
     "name": "stdout",
     "output_type": "stream",
     "text": [
      "Epoch [1/10] - Train Loss: 1.7266, Val Loss: 1.7295, Accuracy: 39.82%\n"
     ]
    },
    {
     "name": "stderr",
     "output_type": "stream",
     "text": [
      "Epoch 2/10: 100%|███████████████████████████████████████████████████████████████████████| 782/782 [00:50<00:00, 15.59it/s]\n"
     ]
    },
    {
     "name": "stdout",
     "output_type": "stream",
     "text": [
      "Epoch [2/10] - Train Loss: 1.7121, Val Loss: 1.7264, Accuracy: 40.90%\n"
     ]
    },
    {
     "name": "stderr",
     "output_type": "stream",
     "text": [
      "Epoch 3/10: 100%|███████████████████████████████████████████████████████████████████████| 782/782 [00:51<00:00, 15.22it/s]\n"
     ]
    },
    {
     "name": "stdout",
     "output_type": "stream",
     "text": [
      "Epoch [3/10] - Train Loss: 1.7015, Val Loss: 1.7315, Accuracy: 40.22%\n"
     ]
    },
    {
     "name": "stderr",
     "output_type": "stream",
     "text": [
      "Epoch 4/10: 100%|███████████████████████████████████████████████████████████████████████| 782/782 [00:50<00:00, 15.37it/s]\n"
     ]
    },
    {
     "name": "stdout",
     "output_type": "stream",
     "text": [
      "Epoch [4/10] - Train Loss: 1.7051, Val Loss: 1.7428, Accuracy: 40.60%\n"
     ]
    },
    {
     "name": "stderr",
     "output_type": "stream",
     "text": [
      "Epoch 5/10: 100%|███████████████████████████████████████████████████████████████████████| 782/782 [00:50<00:00, 15.39it/s]\n"
     ]
    },
    {
     "name": "stdout",
     "output_type": "stream",
     "text": [
      "Epoch [5/10] - Train Loss: 1.6997, Val Loss: 1.7671, Accuracy: 39.21%\n"
     ]
    },
    {
     "name": "stderr",
     "output_type": "stream",
     "text": [
      "Epoch 6/10: 100%|███████████████████████████████████████████████████████████████████████| 782/782 [00:51<00:00, 15.25it/s]\n"
     ]
    },
    {
     "name": "stdout",
     "output_type": "stream",
     "text": [
      "Epoch [6/10] - Train Loss: 1.6990, Val Loss: 1.7147, Accuracy: 41.38%\n"
     ]
    },
    {
     "name": "stderr",
     "output_type": "stream",
     "text": [
      "Epoch 7/10: 100%|███████████████████████████████████████████████████████████████████████| 782/782 [00:51<00:00, 15.24it/s]\n"
     ]
    },
    {
     "name": "stdout",
     "output_type": "stream",
     "text": [
      "Epoch [7/10] - Train Loss: 1.7020, Val Loss: 1.7291, Accuracy: 40.61%\n"
     ]
    },
    {
     "name": "stderr",
     "output_type": "stream",
     "text": [
      "Epoch 8/10: 100%|███████████████████████████████████████████████████████████████████████| 782/782 [00:51<00:00, 15.04it/s]\n"
     ]
    },
    {
     "name": "stdout",
     "output_type": "stream",
     "text": [
      "Epoch [8/10] - Train Loss: 1.7009, Val Loss: 1.7358, Accuracy: 40.80%\n"
     ]
    },
    {
     "name": "stderr",
     "output_type": "stream",
     "text": [
      "Epoch 9/10: 100%|███████████████████████████████████████████████████████████████████████| 782/782 [00:54<00:00, 14.25it/s]\n"
     ]
    },
    {
     "name": "stdout",
     "output_type": "stream",
     "text": [
      "Epoch [9/10] - Train Loss: 1.7054, Val Loss: 1.7099, Accuracy: 41.55%\n"
     ]
    },
    {
     "name": "stderr",
     "output_type": "stream",
     "text": [
      "Epoch 10/10: 100%|██████████████████████████████████████████████████████████████████████| 782/782 [00:50<00:00, 15.34it/s]\n"
     ]
    },
    {
     "name": "stdout",
     "output_type": "stream",
     "text": [
      "Epoch [10/10] - Train Loss: 1.6986, Val Loss: 1.7266, Accuracy: 40.92%\n"
     ]
    }
   ],
   "source": [
    "## 🔁 4. Training Loop\n",
    "# We’ll iterate through the dataset for multiple epochs, tracking both training and validation accuracy.\n",
    "\n",
    "epochs = 10\n",
    "train_losses, val_losses = [], []\n",
    "\n",
    "for epoch in range(epochs):\n",
    "    model.train()\n",
    "    running_loss = 0.0\n",
    "    for inputs, labels in tqdm(trainloader, desc=f\"Epoch {epoch+1}/{epochs}\"):\n",
    "        inputs, labels = inputs.to(device), labels.to(device)\n",
    "\n",
    "        optimizer.zero_grad()\n",
    "        outputs = model(inputs)\n",
    "        loss = criterion(outputs, labels)\n",
    "        loss.backward()\n",
    "        optimizer.step()\n",
    "\n",
    "        running_loss += loss.item()\n",
    "\n",
    "    avg_train_loss = running_loss / len(trainloader)\n",
    "    train_losses.append(avg_train_loss)\n",
    "\n",
    "    # Validation phase\n",
    "    model.eval()\n",
    "    val_loss, correct, total = 0.0, 0, 0\n",
    "    with torch.no_grad():\n",
    "        for inputs, labels in testloader:\n",
    "            inputs, labels = inputs.to(device), labels.to(device)\n",
    "            outputs = model(inputs)\n",
    "            loss = criterion(outputs, labels)\n",
    "            val_loss += loss.item()\n",
    "            _, predicted = torch.max(outputs, 1)\n",
    "            total += labels.size(0)\n",
    "            correct += (predicted == labels).sum().item()\n",
    "\n",
    "    avg_val_loss = val_loss / len(testloader)\n",
    "    val_losses.append(avg_val_loss)\n",
    "    accuracy = 100 * correct / total\n",
    "\n",
    "    print(f\"Epoch [{epoch+1}/{epochs}] - Train Loss: {avg_train_loss:.4f}, \"\n",
    "          f\"Val Loss: {avg_val_loss:.4f}, Accuracy: {accuracy:.2f}%\")\n"
   ]
  },
  {
   "cell_type": "code",
   "execution_count": 9,
   "id": "b59fea57-bcf6-44ce-a709-dcd3b77a0c17",
   "metadata": {},
   "outputs": [
    {
     "data": {
      "image/png": "[encoded data removed]",
      "text/plain": [
       "<Figure size 800x500 with 1 Axes>"
      ]
     },
     "metadata": {},
     "output_type": "display_data"
    }
   ],
   "source": [
    "## 📉 5. Training Curves\n",
    "# Visualize loss curves to assess model performance and detect overfitting.\n",
    "\n",
    "plt.figure(figsize=(8,5))\n",
    "plt.plot(train_losses, label='Train Loss')\n",
    "plt.plot(val_losses, label='Validation Loss')\n",
    "plt.xlabel('Epoch')\n",
    "plt.ylabel('Loss')\n",
    "plt.title('Training vs Validation Loss')\n",
    "plt.legend()\n",
    "plt.show()"
   ]
  },
  {
   "cell_type": "code",
   "execution_count": 10,
   "id": "3ae90c8f-ca36-4a08-877a-3757379220bd",
   "metadata": {},
   "outputs": [
    {
     "name": "stdout",
     "output_type": "stream",
     "text": [
      "Final Test Accuracy: 40.92%\n"
     ]
    }
   ],
   "source": [
    "## 🧪 6. Model Evaluation\n",
    "# We’ll compute final test accuracy and visualize a few predictions.\n",
    "\n",
    "model.eval()\n",
    "correct, total = 0, 0\n",
    "with torch.no_grad():\n",
    "    for inputs, labels in testloader:\n",
    "        inputs, labels = inputs.to(device), labels.to(device)\n",
    "        outputs = model(inputs)\n",
    "        _, predicted = torch.max(outputs, 1)\n",
    "        total += labels.size(0)\n",
    "        correct += (predicted == labels).sum().item()\n",
    "\n",
    "print(f\"Final Test Accuracy: {100 * correct / total:.2f}%\")"
   ]
  },
  {
   "cell_type": "code",
   "execution_count": null,
   "id": "3d1c41b2-8cf8-4f86-827c-cbf4083d019d",
   "metadata": {},
   "outputs": [],
   "source": [
    "## 📘 Theory Notes — Model Evaluation & Overfitting\n",
    "\n",
    "#---\n",
    "\n",
    "### 📊 Understanding Model Performance\n",
    "\n",
    "#After training, evaluating your model helps ensure it generalizes well beyond the data it learned from.  \n",
    "#The two most common metrics are **loss** and **accuracy**:\n",
    "\n",
    "#- **Training Loss** → measures how well the model fits the training data.  \n",
    "#- **Validation/Test Loss** → measures generalization to unseen data.  \n",
    "#- **Accuracy** → percentage of correctly classified images.\n",
    "\n",
    "#✅ **Goal:**  \n",
    "#You want low loss and high accuracy **on both training and validation sets**, which indicates balanced learning.\n",
    "\n",
    "#---\n",
    "\n",
    "### ⚖️ Bias vs. Variance Trade-Off\n",
    "\n",
    "#Model performance is often limited by two key errors:\n",
    "#- **High Bias (Underfitting):** The model is too simple and can’t capture underlying patterns.  \n",
    "#  - Symptoms: High loss, low accuracy on both train and validation data.  \n",
    "#- **High Variance (Overfitting):** The model fits training data too closely and fails to generalize.  \n",
    "#  - Symptoms: Low training loss but high validation loss.  \n",
    "\n",
    "#**Best practice:**  \n",
    "#- Use data augmentation, dropout, and early stopping to control overfitting.  \n",
    "#- Plot learning curves (loss vs. epoch) — divergence between curves signals overfitting.\n",
    "\n",
    "#---\n",
    "\n",
    "### 🧠 Evaluating CNN Predictions\n",
    "\n",
    "#A good evaluation includes:\n",
    "#- **Confusion matrix:** highlights which classes are being confused.  \n",
    "#- **Per-class accuracy:** ensures model performance is balanced across labels.  \n",
    "#- **Qualitative review:** visually inspect misclassified images to spot systematic issues.\n",
    "\n",
    "#---\n",
    "\n",
    "#📈 *By combining quantitative metrics with visual inspection, you can interpret how well your model learned and identify areas for improvement before deployment.*\n"
   ]
  },
  {
   "cell_type": "code",
   "execution_count": 11,
   "id": "326037c7-fd22-4e96-baf2-282c33757c33",
   "metadata": {},
   "outputs": [],
   "source": [
    "## 💾 7. Save Model\n",
    "#We’ll save the trained model to use later in our FastAPI inference pipeline.\n",
    "\n",
    "os.makedirs(\"../models\", exist_ok=True)\n",
    "torch.save(model.state_dict(), \"../models/best_model.pt\")"
   ]
  },
  {
   "cell_type": "code",
   "execution_count": 12,
   "id": "75e45dd5-6d19-4f6d-97dd-0c607deb60e5",
   "metadata": {},
   "outputs": [
    {
     "name": "stdout",
     "output_type": "stream",
     "text": [
      "✅ Model file found at: ../models/best_model.pt\n"
     ]
    }
   ],
   "source": [
    "# ✅ Verify That the File Exists\n",
    "\n",
    "model_path = \"../models/best_model.pt\"\n",
    "if os.path.exists(model_path):\n",
    "    print(f\"✅ Model file found at: {model_path}\")\n",
    "else:\n",
    "    print(\"❌ Model file not found - check your save path.\")"
   ]
  },
  {
   "cell_type": "code",
   "execution_count": 13,
   "id": "0908dd9f-0e96-4e0e-b517-fe45c9cc8ccb",
   "metadata": {},
   "outputs": [
    {
     "name": "stdout",
     "output_type": "stream",
     "text": [
      "✅ Model weights loaded successfully and ready for inference.\n"
     ]
    }
   ],
   "source": [
    "# ✅ Verify that model file can be load successfully\n",
    "checkpoint_model = models.resnet18(weights=None)\n",
    "num_ftrs = checkpoint_model.fc.in_features\n",
    "checkpoint_model.fc = nn.Linear(num_ftrs, 10)  # 10 classes for CIFAR-10\n",
    "\n",
    "# Load weights\n",
    "checkpoint_model.load_state_dict(torch.load(model_path, map_location=device))\n",
    "checkpoint_model.eval()\n",
    "print(\"✅ Model weights loaded successfully and ready for inference.\")"
   ]
  },
  {
   "cell_type": "code",
   "execution_count": null,
   "id": "9a404658-e064-4894-92a0-5896e576adaa",
   "metadata": {},
   "outputs": [],
   "source": [
    "## 🧩 Key Takeaways\n",
    "\n",
    "# - **Transfer Learning** drastically reduces training time and improves performance on small datasets.\n",
    "# - **Freezing early layers** leverages pretrained visual features from ImageNet.\n",
    "# - This trained model will be integratedinto the `/predict` endpoint in our FastAPI app next"
   ]
  }
 ],
 "metadata": {
  "kernelspec": {
   "display_name": "Python 3 (ipykernel)",
   "language": "python",
   "name": "python3"
  },
  "language_info": {
   "codemirror_mode": {
    "name": "ipython",
    "version": 3
   },
   "file_extension": ".py",
   "mimetype": "text/x-python",
   "name": "python",
   "nbconvert_exporter": "python",
   "pygments_lexer": "ipython3",
   "version": "3.10.11"
  }
 },
 "nbformat": 4,
 "nbformat_minor": 5
}
